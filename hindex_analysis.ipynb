{
 "cells": [
  {
   "cell_type": "code",
   "execution_count": 1,
   "id": "6eee388f-8892-4f76-a0f0-890f8f9942b9",
   "metadata": {},
   "outputs": [],
   "source": [
    "include(\"src/ResearchMetrics.jl\")\n",
    "using .ResearchMetrics\n",
    "using Dates"
   ]
  },
  {
   "cell_type": "markdown",
   "id": "81051aff-8a9c-434e-9ec3-57a937bd34c3",
   "metadata": {},
   "source": [
    "# Scraping information from the web\n",
    "\n",
    "The package offers the possibility of fetching the data from third-party databases, such as Scopus and Google Scholar."
   ]
  },
  {
   "cell_type": "code",
   "execution_count": 2,
   "id": "7d27e874-a4a1-4bb9-ab6c-cab1dfd5ee59",
   "metadata": {},
   "outputs": [
    {
     "data": {
      "text/plain": [
       "5-element Vector{Researcher}:\n",
       " Researcher(nothing, \"Hommelhoff\", \"Universität Erlangen-Nürnberg\", nothing, Prize[Prize(\"Gottfried Wilhelm Leibniz Prize\", Date(\"2023-01-01\"))], nothing, nothing, nothing, nothing, nothing, nothing, nothing, nothing)\n",
       " Researcher(nothing, \"Martínez-Pinedo\", \"Technische Universitat Darmstadt\", nothing, nothing, nothing, nothing, nothing, nothing, nothing, nothing, nothing, nothing)\n",
       " Researcher(nothing, \"André\", \"Universität Augsburg\", nothing, nothing, nothing, nothing, nothing, nothing, nothing, nothing, nothing, nothing)\n",
       " Researcher(nothing, \"Haddadin\", \"Technische Universität München\", nothing, nothing, nothing, nothing, nothing, nothing, nothing, nothing, nothing, nothing)\n",
       " Researcher(nothing, \"Wessling\", \"RWTH\", nothing, nothing, nothing, nothing, nothing, nothing, nothing, nothing, nothing, nothing)"
      ]
     },
     "execution_count": 2,
     "metadata": {},
     "output_type": "execute_result"
    }
   ],
   "source": [
    "researchers = [ \n",
    "    Researcher(\"Hommelhoff\",\n",
    "               \"Universität Erlangen-Nürnberg\",\n",
    "                prizes = [Prize(\"Gottfried Wilhelm Leibniz Prize\", \"2023-01-01\")]) # Survey 2\n",
    "    Researcher(\"Martínez-Pinedo\", \"Technische Universitat Darmstadt\") # Survey 3\n",
    "    Researcher(\"André\", \"Universität Augsburg\") # Survey 4\n",
    "    Researcher(\"Haddadin\", \"Technische Universität München\") # Survey 5\n",
    "    Researcher(\"Wessling\", \"RWTH\") # Survey 6\n",
    "    #Author(\"schölkopf\", \"mpi\") # Survey 7\n",
    "    #Author(\"mädler\", \"universität bremen\") # Survey 8\n",
    "    #Author(\"grimme\", \"universität bonn\") # Survey 9\n",
    "    #Author(\"dreizler\", \"technische universität darmstadt\") # Survey 9\n",
    "    #Author(\"merklein\", \"universität erlangen-nürnberg\") # Survey 8\n",
    "    #Author(\"rosch\", \"universität zu köln\") # Survey 7\n",
    "]"
   ]
  },
  {
   "cell_type": "code",
   "execution_count": 3,
   "id": "919413df-f683-48ae-bf3a-aa3f569c1048",
   "metadata": {},
   "outputs": [
    {
     "data": {
      "text/plain": [
       "setinfoforhindex! (generic function with 1 method)"
      ]
     },
     "execution_count": 3,
     "metadata": {},
     "output_type": "execute_result"
    }
   ],
   "source": [
    "function setinfoforhindex!(researcher::Researcher)\n",
    "    setScopusAuthorSearch!(researcher, only_local=true)\n",
    "    setScopusSearch!(researcher, progress_bar=true, only_local=true)\n",
    "    mappublications(x -> setScopusAbstractRetrieval!(x, only_local=true), researcher, progress_bar=true)\n",
    "    setSerpapiGScholarCite!(researcher, progress_bar=true)\n",
    "    mapcitations(x -> setScopusAbstractRetrieval!(x, only_local=true), researcher, progress_bar=true)\n",
    "end"
   ]
  },
  {
   "cell_type": "code",
   "execution_count": 4,
   "id": "b01f31fd-c916-4f11-bf70-762ca6ce93df",
   "metadata": {},
   "outputs": [
    {
     "ename": "LoadError",
     "evalue": "UndefVarError: `response_parse` not defined",
     "output_type": "error",
     "traceback": [
      "UndefVarError: `response_parse` not defined",
      "",
      "Stacktrace:",
      " [1] ScopusSearch(author::Researcher; only_local::Bool, progress_bar::Bool, in_a_hurry::Bool)",
      "   @ Main.ResearchMetrics ~/Documents/HiWi/scientific-indicators-in-different-fields-survey/src/scopus-search.jl:65",
      " [2] ScopusSearch",
      "   @ ~/Documents/HiWi/scientific-indicators-in-different-fields-survey/src/scopus-search.jl:48 [inlined]",
      " [3] #setScopusSearch!#24",
      "   @ ~/Documents/HiWi/scientific-indicators-in-different-fields-survey/src/scopus-search.jl:95 [inlined]",
      " [4] setScopusSearch!",
      "   @ ~/Documents/HiWi/scientific-indicators-in-different-fields-survey/src/scopus-search.jl:94 [inlined]",
      " [5] setinfoforhindex!(researcher::Researcher)",
      "   @ Main ./In[3]:3",
      " [6] top-level scope",
      "   @ In[4]:1"
     ]
    }
   ],
   "source": [
    "setinfoforhindex!(researchers[1])"
   ]
  },
  {
   "cell_type": "markdown",
   "id": "c4f51235-5cba-4013-8b5d-83e8c62a4772",
   "metadata": {},
   "source": [
    "## H-Index evaluation\n",
    "\n",
    "Let's consider a given researcher named Rattman."
   ]
  },
  {
   "cell_type": "markdown",
   "id": "baaa118d-b3c6-4f87-99d6-06c2090ff886",
   "metadata": {},
   "source": [
    "# Assessing the h-index"
   ]
  },
  {
   "cell_type": "markdown",
   "id": "d38d51f6-8215-4f03-b6f3-ac2b9635becc",
   "metadata": {},
   "source": [
    "# ResearchMetrics.jl\n",
    "\n",
    "This package aims to provide a framework for assessing research metrics, such as the h-index, in Julia. The main diffenrence between this package and Python's _scholarmetrics_ is the ability of calculating the metrics as a time series."
   ]
  },
  {
   "cell_type": "code",
   "execution_count": 5,
   "id": "c080fb3d-47b3-459d-b01b-159612dcdea9",
   "metadata": {},
   "outputs": [
    {
     "data": {
      "text/plain": [
       "1-element Vector{Publication}:\n",
       " Publication(\"Morality Core\", Date(\"2005-10-01\"), nothing, nothing, nothing, nothing, nothing, Publication[Publication(nothing, Date(\"2006-10-01\"), nothing, nothing, nothing, nothing, nothing, nothing, nothing, nothing), Publication(nothing, Date(\"2006-10-01\"), nothing, nothing, nothing, nothing, nothing, nothing, nothing, nothing)], nothing, nothing)"
      ]
     },
     "execution_count": 5,
     "metadata": {},
     "output_type": "execute_result"
    }
   ],
   "source": [
    "researcher = Researcher(\"Rattman\", \"Aperture Science\")\n",
    "publications = [Publication(\"Morality Core\",\n",
    "                            Date(\"2005-10-01\"),\n",
    "                            citations=[Publication(Date(\"2006-10-01\")),\n",
    "                                       Publication(Date(\"2006-10-01\"))])]"
   ]
  },
  {
   "cell_type": "code",
   "execution_count": null,
   "id": "6db3f5bd-ba8f-4eaf-84f0-fe12a51850fa",
   "metadata": {},
   "outputs": [],
   "source": []
  },
  {
   "cell_type": "code",
   "execution_count": null,
   "id": "86b71988-42b9-4915-87f8-4c72088ffdf6",
   "metadata": {},
   "outputs": [],
   "source": []
  },
  {
   "cell_type": "code",
   "execution_count": null,
   "id": "6aba8113-8215-413e-a8f9-b5efee669dd8",
   "metadata": {},
   "outputs": [],
   "source": []
  }
 ],
 "metadata": {
  "kernelspec": {
   "display_name": "Julia 1.9.0",
   "language": "julia",
   "name": "julia-1.9"
  },
  "language_info": {
   "file_extension": ".jl",
   "mimetype": "application/julia",
   "name": "julia",
   "version": "1.9.0"
  }
 },
 "nbformat": 4,
 "nbformat_minor": 5
}
