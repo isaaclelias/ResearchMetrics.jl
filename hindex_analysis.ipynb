{
 "cells": [
  {
   "cell_type": "markdown",
   "id": "d38d51f6-8215-4f03-b6f3-ac2b9635becc",
   "metadata": {},
   "source": [
    "# ResearchMetrics.jl\n",
    "\n",
    "This package aims to provide a framework for assessing research metrics, such as the h-index, in Julia. The main diffenrence between this package and Python's _scholarmetrics_ is the ability of calculating the metrics as a time series."
   ]
  },
  {
   "cell_type": "code",
   "execution_count": 1,
   "id": "6eee388f-8892-4f76-a0f0-890f8f9942b9",
   "metadata": {},
   "outputs": [],
   "source": [
    "include(\"src/ResearchMetrics.jl\")\n",
    "using .ResearchMetrics\n",
    "using Dates"
   ]
  },
  {
   "cell_type": "markdown",
   "id": "c4f51235-5cba-4013-8b5d-83e8c62a4772",
   "metadata": {},
   "source": [
    "## H-Index evaluation\n",
    "\n",
    "Let's consider a given researcher named Rattman."
   ]
  },
  {
   "cell_type": "code",
   "execution_count": 2,
   "id": "c080fb3d-47b3-459d-b01b-159612dcdea9",
   "metadata": {},
   "outputs": [
    {
     "ename": "LoadError",
     "evalue": "UndefVarError: `Researcher` not defined",
     "output_type": "error",
     "traceback": [
      "UndefVarError: `Researcher` not defined",
      "",
      "Stacktrace:",
      " [1] top-level scope",
      "   @ In[2]:1"
     ]
    }
   ],
   "source": [
    "researcher = Researcher(\"Rattman\", \"Aperture Science\")\n",
    "publications = [Publication(\"Morality Core\",\n",
    "                            Date(\"2005-10-01\"),\n",
    "                            citations=[Publication(Date(\"2006-10-01\")),\n",
    "                                       Publication(Date(\"2006-10-01\"))])]"
   ]
  },
  {
   "cell_type": "markdown",
   "id": "81051aff-8a9c-434e-9ec3-57a937bd34c3",
   "metadata": {},
   "source": [
    "# Scraping information from the web\n",
    "\n",
    "The package offers the possibility of fetching the data from third-party databases, such as Scopus and Google Scholar."
   ]
  },
  {
   "cell_type": "code",
   "execution_count": 3,
   "id": "7d27e874-a4a1-4bb9-ab6c-cab1dfd5ee59",
   "metadata": {},
   "outputs": [
    {
     "ename": "LoadError",
     "evalue": "UndefVarError: `Author` not defined",
     "output_type": "error",
     "traceback": [
      "UndefVarError: `Author` not defined",
      "",
      "Stacktrace:",
      " [1] top-level scope",
      "   @ In[3]:1"
     ]
    }
   ],
   "source": [
    "researchers = [ \n",
    "    Researcher(\"Hommelhoff\", \"Universität Erlangen-Nürnberg\") # Survey 2\n",
    "    Researcher(\"Martínez-Pinedo\", \"Technische Universitat Darmstadt\") # Survey 3\n",
    "    Researcher(\"André\", \"Universität Augsburg\") # Survey 4\n",
    "    Researcher(\"Haddadin\", \"Technische Universität München\") # Survey 5\n",
    "    Researcher(\"Wessling\", \"RWTH\") # Survey 6\n",
    "    #Author(\"schölkopf\", \"mpi\") # Survey 7\n",
    "    #Author(\"mädler\", \"universität bremen\") # Survey 8\n",
    "    #Author(\"grimme\", \"universität bonn\") # Survey 9\n",
    "    #Author(\"dreizler\", \"technische universität darmstadt\") # Survey 9\n",
    "    #Author(\"merklein\", \"universität erlangen-nürnberg\") # Survey 8\n",
    "    #Author(\"rosch\", \"universität zu köln\") # Survey 7\n",
    "]\n",
    "\n",
    "setScopusAuthorRetrieval!.(researchers)\n",
    "setAuthoredPublicationsWithScopusSearch!.(researchers)\n",
    "setCitationsWithSerpapiGScholarCite!.(researchers)\n",
    "\n",
    "for researcher in researchers\n",
    "    plot(hindex(researcher), title=\"h-index evolution\", label=[\"$(researcher.lastname)\"])"
   ]
  },
  {
   "cell_type": "markdown",
   "id": "baaa118d-b3c6-4f87-99d6-06c2090ff886",
   "metadata": {},
   "source": [
    "# Assessing the h-index"
   ]
  },
  {
   "cell_type": "code",
   "execution_count": null,
   "id": "6aba8113-8215-413e-a8f9-b5efee669dd8",
   "metadata": {},
   "outputs": [],
   "source": [
    "hindex("
   ]
  }
 ],
 "metadata": {
  "kernelspec": {
   "display_name": "Julia 1.9.0",
   "language": "julia",
   "name": "julia-1.9"
  },
  "language_info": {
   "file_extension": ".jl",
   "mimetype": "application/julia",
   "name": "julia",
   "version": "1.9.0"
  }
 },
 "nbformat": 4,
 "nbformat_minor": 5
}
