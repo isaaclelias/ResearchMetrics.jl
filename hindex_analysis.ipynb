{
 "cells": [
  {
   "cell_type": "code",
   "execution_count": null,
   "id": "7d27e874-a4a1-4bb9-ab6c-cab1dfd5ee59",
   "metadata": {},
   "outputs": [],
   "source": [
    "include(\"src/ResearchMetrics..jl\")\n",
    "using .ResearchMetrics\n",
    "\n",
    "researchers = [ \n",
    "    #Author(\"hommelhoff\", \"universität erlangen-nürnberg\") # Survey 2\n",
    "    #Author(\"martínez-pinedo\", \"technische universitat darmstadt\") # Survey 3\n",
    "    #Author(\"andré\", \"universität augsburg\") # Survey 4\n",
    "    #Author(\"haddadin\", \"technische universität münchen\") # Survey 5\n",
    "    Author(\"wessling\", \"rwth\") # Survey 6\n",
    "    Author(\"schölkopf\", \"mpi\") # Survey 7\n",
    "    Author(\"mädler\", \"universität bremen\") # Survey 8\n",
    "    Author(\"grimme\", \"universität bonn\") # Survey 9\n",
    "    Author(\"dreizler\", \"technische universität darmstadt\") # Survey 9\n",
    "    Author(\"merklein\", \"universität erlangen-nürnberg\") # Survey 8\n",
    "    Author(\"rosch\", \"universität zu köln\") # Survey 7\n",
    "]\n",
    "setScopusAuthorRetrieval!.(researchers)\n",
    "setScopusArticles!.(researchers)\n",
    "setSerpapiGScholarCite!.(researchers)\n",
    "\n",
    "plot.(hindex.(researchers))"
   ]
  }
 ],
 "metadata": {
  "kernelspec": {
   "display_name": "Julia 1.9.0",
   "language": "julia",
   "name": "julia-1.9"
  },
  "language_info": {
   "file_extension": ".jl",
   "mimetype": "application/julia",
   "name": "julia",
   "version": "1.9.0"
  }
 },
 "nbformat": 4,
 "nbformat_minor": 5
}
